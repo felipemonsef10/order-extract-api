{
 "cells": [
  {
   "cell_type": "code",
   "execution_count": 1,
   "id": "ce9f2767",
   "metadata": {},
   "outputs": [],
   "source": [
    "import os\n",
    "import re\n",
    "import pdfplumber"
   ]
  },
  {
   "cell_type": "code",
   "execution_count": 2,
   "id": "e1014756",
   "metadata": {},
   "outputs": [
    {
     "data": {
      "text/plain": [
       "['.git',\n",
       " '.gitignore',\n",
       " '.venv',\n",
       " 'app.py',\n",
       " 'funcoes.py',\n",
       " 'pasta_monitorada',\n",
       " 'pdfs_pedidos_empresa',\n",
       " 'README.md',\n",
       " 'requirements.txt',\n",
       " 'testes',\n",
       " '__pycache__']"
      ]
     },
     "execution_count": 2,
     "metadata": {},
     "output_type": "execute_result"
    }
   ],
   "source": [
    "main_directory = os.path.pardir\n",
    "os.listdir(main_directory)"
   ]
  },
  {
   "cell_type": "code",
   "execution_count": null,
   "id": "4f621758",
   "metadata": {},
   "outputs": [],
   "source": [
    "main_directory = os.path.pardir\n",
    "pdf_file = os.path.join(main_directory, r'pasta_monitorada\\teste.pdf')\n",
    "\n",
    "extracted_texts = []\n",
    "\n",
    "with pdfplumber.open(pdf_file) as pdf:\n",
    "    for index, pagina in enumerate(pdf.pages, start=1):\n",
    "        # print(pagina)\n",
    "\n",
    "        text = pagina.extract_text()\n",
    "        \n",
    "        if index % 2 == 1:\n",
    "            extracted_texts.append(text)"
   ]
  },
  {
   "cell_type": "code",
   "execution_count": null,
   "id": "49b60b79",
   "metadata": {},
   "outputs": [],
   "source": [
    "for text in extracted_texts:\n",
    "    re_cnpj = re.compile(r'\\d{2}\\.\\d{3}\\.\\d{3}\\/\\d{4}\\-\\d{2}')\n",
    "    cnpj = re.findall(re_cnpj, extracted_texts[0])[0]\n",
    "    print(cnpj)\n",
    "\n",
    "    re_data = re.compile(r'\\d{2}/\\d{2}/\\d{4}')\n",
    "    data = re.findall(re_data, text)[0]\n",
    "    print(data)\n",
    "\n",
    "    try:\n",
    "        header_index = extracted_texts[0].index('Cód. Fornecedor Item de Estoque Emb. Quantidade Vlr. Unit. Desconto Vlr. Liq. IPI % IPI $ Frete Imp.Ret. IR.Gnre Vlr. Total')\n",
    "        end_table_index = text.index('Observações')\n",
    "        text_items = text[header_index:end_table_index - 1].split('\\n')[1:]\n",
    "        # print('Página Ímpar')\n",
    "\n",
    "        for row in text_items:\n",
    "            re_item_estoque = re.compile(r'(\\d+)\\s')\n",
    "            item_estoque = re.findall(re_item_estoque, row)[1]\n",
    "            print(item_estoque)\n",
    "\n",
    "\n",
    "            re_descricao_prod = re.compile(r'({}\\s(.+)(FD|UN|CX))'.format(item_estoque))\n",
    "            descricao_prod = re.findall(re_descricao_prod, row)\n",
    "            print(descricao_prod[0][1].strip())\n",
    "            # print(descricao_prod)\n",
    "\n",
    "    except Exception as e:\n",
    "        print(e)\n",
    "        break\n",
    "\n",
    "    break"
   ]
  }
 ],
 "metadata": {
  "kernelspec": {
   "display_name": ".venv",
   "language": "python",
   "name": "python3"
  },
  "language_info": {
   "codemirror_mode": {
    "name": "ipython",
    "version": 3
   },
   "file_extension": ".py",
   "mimetype": "text/x-python",
   "name": "python",
   "nbconvert_exporter": "python",
   "pygments_lexer": "ipython3",
   "version": "3.10.4"
  }
 },
 "nbformat": 4,
 "nbformat_minor": 5
}
