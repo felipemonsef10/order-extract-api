{
 "cells": [
  {
   "cell_type": "code",
   "execution_count": null,
   "id": "ce9f2767",
   "metadata": {},
   "outputs": [],
   "source": [
    "import os\n",
    "import re\n",
    "import pdfplumber"
   ]
  },
  {
   "cell_type": "code",
   "execution_count": null,
   "id": "e1014756",
   "metadata": {},
   "outputs": [],
   "source": [
    "main_directory = os.path.pardir\n",
    "os.listdir(main_directory)"
   ]
  },
  {
   "cell_type": "code",
   "execution_count": null,
   "id": "4f621758",
   "metadata": {},
   "outputs": [],
   "source": [
    "main_directory = os.path.pardir\n",
    "pdf_file = os.path.join(main_directory, r'pdfs_pedidos_empresa\\vasconcelos pedido de compra arroz e feijao.pdf')\n",
    "\n",
    "extracted_texts = []\n",
    "\n",
    "with pdfplumber.open(pdf_file) as pdf:\n",
    "    for index, pagina in enumerate(pdf.pages, start=1):\n",
    "        # print(pagina)\n",
    "\n",
    "        text = pagina.extract_text()\n",
    "        \n",
    "        if index % 2 == 1:\n",
    "            extracted_texts.append(text)\n",
    "    \n",
    "        break"
   ]
  },
  {
   "cell_type": "code",
   "execution_count": null,
   "id": "50481221",
   "metadata": {},
   "outputs": [],
   "source": [
    "print(extracted_texts[0])"
   ]
  },
  {
   "cell_type": "code",
   "execution_count": 39,
   "id": "13542abf",
   "metadata": {},
   "outputs": [
    {
     "name": "stdout",
     "output_type": "stream",
     "text": [
      "17.745.613/0053-81\n",
      "20/05/2025\n"
     ]
    }
   ],
   "source": [
    "re_cnpj = re.compile(r'\\d{2}\\.\\d{3}\\.\\d{3}\\/\\d{4}\\-\\d{2}')\n",
    "cnpj = re.findall(re_cnpj, extracted_texts[0])[0]\n",
    "print(cnpj)\n",
    "\n",
    "\n",
    "re_data = re.compile(r'\\d{2}/\\d{2}/\\d{4}')\n",
    "data = re.findall(re_data, extracted_texts[0])[0]\n",
    "print(data)\n"
   ]
  },
  {
   "cell_type": "code",
   "execution_count": 59,
   "id": "522b83f6",
   "metadata": {},
   "outputs": [
    {
     "name": "stdout",
     "output_type": "stream",
     "text": [
      "Cód. Fornecedor Item de Estoque Emb. Quantidade Vlr. Unit. Desconto Vlr. Liq. IPI % IPI $ Frete Imp.Ret. IR.Gnre Vlr. Total\n",
      "2010124 160722 ARROZ BAHAMAS TIPO 1 2KG FD(15) 2,000 112,00 0,0000 224,00 0,00 0,00 0,00 0,00 0,00 224,00\n",
      "02010059 79554 ARROZ INTEGRAL VASCONCELOS 1KG FD(10) 1,000 54,00 0,0000 54,00 0,00 0,00 0,00 0,00 0,00 54,00\n",
      "02010015 106256 ARROZ PATOSUL TIPO 1 5KG CX(6) 140,000 114,00 0,0000 15.960,00 0,00 0,00 0,00 0,00 0,00 15.960,00\n",
      "02010058 108371 ARROZ VASCONCELOS TIPO 1 1KG FD(10) 5,000 52,40 0,0000 262,00 0,00 0,00 0,00 0,00 0,00 262,00\n",
      "02010071 100050 ARROZ VASCONCELOS TIPO 1 2KG FD(15) 5,000 157,00 0,0000 785,00 0,00 0,00 0,00 0,00 0,00 785,00\n",
      "02050981 108094 CESTA BASICA VASCONCELOS DIAMANTE UN 17,000 133,50 0,0000 2.269,50 0,00 0,00 0,00 0,00 0,00 2.269,50\n",
      "02050980 108093 CESTA BASICA VASCONCELOS OURO UN 10,000 72,50 0,0000 725,00 0,00 0,00 0,00 0,00 0,00 725,00\n"
     ]
    }
   ],
   "source": [
    "try:\n",
    "    header_index = extracted_texts[0].index('Cód. Fornecedor Item de Estoque Emb. Quantidade Vlr. Unit. Desconto Vlr. Liq. IPI % IPI $ Frete Imp.Ret. IR.Gnre Vlr. Total')\n",
    "    end_table_index = text.index('Observações')\n",
    "    text_items = extracted_texts[0][header_index:end_table_index - 1]\n",
    "    # print('Página Ímpar')\n",
    "except Exception as e:\n",
    "    print(e)\n",
    "\n",
    "print(text_items)"
   ]
  },
  {
   "cell_type": "code",
   "execution_count": 70,
   "id": "fe175492",
   "metadata": {},
   "outputs": [
    {
     "name": "stdout",
     "output_type": "stream",
     "text": [
      "160722\n",
      "[('160722 ARROZ BAHAMAS TIPO 1 2KG FD', 'FD')]\n"
     ]
    }
   ],
   "source": [
    "re_item_estoque = re.compile(r'(\\d+)\\s')\n",
    "item_estoque = re.findall(re_item_estoque, text_items)[1]\n",
    "print(item_estoque)\n",
    "\n",
    "# {item_estoque}\\s.+\n",
    "re_descricao_prod = re.compile(rf'({item_estoque}\\s.+(FD|UN))')\n",
    "descricao_prod = re.findall(re_descricao_prod, text_items)\n",
    "\n",
    "print(descricao_prod)"
   ]
  },
  {
   "cell_type": "code",
   "execution_count": 72,
   "id": "f4259e8e",
   "metadata": {},
   "outputs": [
    {
     "name": "stdout",
     "output_type": "stream",
     "text": [
      "[('https://', '', 'com'), ('http://', '', 'com'), ('https://', 'www.', 'org'), ('', 'www.', 'gov.br')]\n",
      "https://portalhashtag.com\n",
      "http://hashtagtreinamentos.com\n",
      "https://www.wikipedia.org\n",
      "www.bcb.gov.br\n"
     ]
    }
   ],
   "source": [
    "texto2 = \"\"\"\n",
    "Olá\n",
    "\n",
    "Segue o relatório de SEO para os seguintes sites:\n",
    "https://portalhashtag.com\n",
    "http://hashtagtreinamentos.com\n",
    "https://www.wikipedia.org/\n",
    "www.bcb.gov.br/\n",
    "\n",
    "Qualquer dúvida estamos à disposição\"\"\"\n",
    "\n",
    "padrao = re.compile(r\"(https?://)?(www\\.)?\\w+\\.(com\\.br|com|org|gov\\.br)\")\n",
    "resultado1 = re.findall(padrao, texto2)\n",
    "resultado2 = re.finditer(padrao, texto2)\n",
    "print(resultado1)\n",
    "for item in resultado2:\n",
    "    print(item.group(0))"
   ]
  }
 ],
 "metadata": {
  "kernelspec": {
   "display_name": ".venv",
   "language": "python",
   "name": "python3"
  },
  "language_info": {
   "codemirror_mode": {
    "name": "ipython",
    "version": 3
   },
   "file_extension": ".py",
   "mimetype": "text/x-python",
   "name": "python",
   "nbconvert_exporter": "python",
   "pygments_lexer": "ipython3",
   "version": "3.10.4"
  }
 },
 "nbformat": 4,
 "nbformat_minor": 5
}
